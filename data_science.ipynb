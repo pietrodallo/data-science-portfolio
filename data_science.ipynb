{
  "nbformat": 4,
  "nbformat_minor": 0,
  "metadata": {
    "colab": {
      "provenance": [],
      "toc_visible": true,
      "authorship_tag": "ABX9TyOJCiGbI4jvtxGJxIY0g3o/",
      "include_colab_link": true
    },
    "kernelspec": {
      "name": "python3",
      "display_name": "Python 3"
    },
    "language_info": {
      "name": "python"
    },
    "accelerator": "TPU"
  },
  "cells": [
    {
      "cell_type": "markdown",
      "metadata": {
        "id": "view-in-github",
        "colab_type": "text"
      },
      "source": [
        "<a href=\"https://colab.research.google.com/github/pietrodallo/data-science-portfolio/blob/main/data_science.ipynb\" target=\"_parent\"><img src=\"https://colab.research.google.com/assets/colab-badge.svg\" alt=\"Open In Colab\"/></a>"
      ]
    },
    {
      "cell_type": "code",
      "execution_count": null,
      "metadata": {
        "id": "2NjAhOlO7LwY"
      },
      "outputs": [],
      "source": []
    },
    {
      "cell_type": "markdown",
      "source": [
        "## Ingest"
      ],
      "metadata": {
        "id": "7iOxpGa16MEv"
      }
    },
    {
      "cell_type": "code",
      "source": [],
      "metadata": {
        "id": "xn9_kNOO7Q6Q"
      },
      "execution_count": null,
      "outputs": []
    },
    {
      "cell_type": "markdown",
      "source": [
        "## EDA"
      ],
      "metadata": {
        "id": "tuOjQU376WY7"
      }
    },
    {
      "cell_type": "code",
      "source": [],
      "metadata": {
        "id": "21u6MebG6XxK"
      },
      "execution_count": null,
      "outputs": []
    },
    {
      "cell_type": "markdown",
      "source": [
        "## Modeling"
      ],
      "metadata": {
        "id": "7G7gG4OI6Ytv"
      }
    },
    {
      "cell_type": "code",
      "source": [],
      "metadata": {
        "id": "5_DUQDcy6Zto"
      },
      "execution_count": null,
      "outputs": []
    },
    {
      "cell_type": "markdown",
      "source": [
        "## Conclusion"
      ],
      "metadata": {
        "id": "ZW_64Jd66dSe"
      }
    },
    {
      "cell_type": "code",
      "source": [],
      "metadata": {
        "id": "TvgY9S356eVc"
      },
      "execution_count": null,
      "outputs": []
    }
  ]
}